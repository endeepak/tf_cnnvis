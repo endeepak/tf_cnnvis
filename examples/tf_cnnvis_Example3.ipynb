{
 "cells": [
  {
   "cell_type": "code",
   "execution_count": null,
   "metadata": {},
   "outputs": [],
   "source": [
    "# import\n",
    "import os\n",
    "import sys\n",
    "import time\n",
    "import copy\n",
    "import h5py\n",
    "import numpy as np\n",
    "\n",
    "from tf_cnnvis import *\n",
    "\n",
    "import tensorflow as tf\n",
    "from scipy.misc import imread, imresize"
   ]
  },
  {
   "cell_type": "code",
   "execution_count": null,
   "metadata": {},
   "outputs": [],
   "source": [
    "# download ssdlite_mobilenet_v2_coco model if not\n",
    "if not os.path.exists(\"./ssdlite_mobilenet_v2_coco_2018_05_09.tar.gz\"):\n",
    "    os.system(\"wget http://download.tensorflow.org/models/object_detection/ssdlite_mobilenet_v2_coco_2018_05_09.tar.gz && tar -xvzf ssdlite_mobilenet_v2_coco_2018_05_09.tar.gz\")"
   ]
  },
  {
   "cell_type": "code",
   "execution_count": null,
   "metadata": {},
   "outputs": [],
   "source": [
    "# importing InceptionV5 model\n",
    "with tf.gfile.FastGFile('ssdlite_mobilenet_v2_coco_2018_05_09/frozen_inference_graph.pb', 'rb') as f:\n",
    "    graph_def = tf.GraphDef()\n",
    "    graph_def.ParseFromString(f.read())\n",
    "t_input = tf.placeholder(np.float32, name='FeatureExtractor/MobilenetV2/MobilenetV2/input') # define the input tensor\n",
    "imagenet_mean = 117.0\n",
    "t_preprocessed = t_input-imagenet_mean\n",
    "tf.import_graph_def(graph_def, {'FeatureExtractor/MobilenetV2/MobilenetV2/input':t_preprocessed})"
   ]
  },
  {
   "cell_type": "code",
   "execution_count": null,
   "metadata": {},
   "outputs": [],
   "source": [
    "# reading sample image\n",
    "im = np.expand_dims(imresize(imread(os.path.join(\"./sample_images\", \"images.jpg\")), (300, 300)), axis = 0)"
   ]
  },
  {
   "cell_type": "code",
   "execution_count": null,
   "metadata": {},
   "outputs": [],
   "source": [
    "# deepdream visualization\n",
    "layer = \"import/FeatureExtractor/MobilenetV2/layer_19_2_Conv2d_5_3x3_s2_128/BatchNorm/batchnorm/add_1\"\n",
    "\n",
    "start = time.time()\n",
    "# api call\n"
   ]
  },
  {
   "cell_type": "code",
   "execution_count": null,
   "metadata": {},
   "outputs": [],
   "source": [
    "\n",
    "\n",
    "is_success = deepdream_visualization(sess_graph_path = tf.get_default_graph(), value_feed_dict = {t_input : im}, \n",
    "                                     layer=layer, classes = [1, 2, 3, 4, 5],\n",
    "                                     path_logdir=os.path.join(\"Log\",\"ssdlite_mobilenet_v2_coco\"), \n",
    "                                     path_outdir=os.path.join(\"Output\",\"ssdlite_mobilenet_v2_coco\"))\n",
    "start = time.time() - start\n",
    "print(\"Total Time = %f\" % (start))\n",
    "\n"
   ]
  },
  {
   "cell_type": "code",
   "execution_count": null,
   "metadata": {},
   "outputs": [],
   "source": []
  }
 ],
 "metadata": {
  "anaconda-cloud": {},
  "kernelspec": {
   "display_name": "tf_cnnvis-bRZR3tqw",
   "language": "python",
   "name": "tf_cnnvis-brzr3tqw"
  },
  "language_info": {
   "codemirror_mode": {
    "name": "ipython",
    "version": 3
   },
   "file_extension": ".py",
   "mimetype": "text/x-python",
   "name": "python",
   "nbconvert_exporter": "python",
   "pygments_lexer": "ipython3",
   "version": "3.6.5"
  }
 },
 "nbformat": 4,
 "nbformat_minor": 2
}
